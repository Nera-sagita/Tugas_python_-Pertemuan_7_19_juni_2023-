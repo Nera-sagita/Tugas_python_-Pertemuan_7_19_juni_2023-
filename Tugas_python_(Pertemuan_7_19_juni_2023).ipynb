{
  "nbformat": 4,
  "nbformat_minor": 0,
  "metadata": {
    "colab": {
      "provenance": []
    },
    "kernelspec": {
      "name": "python3",
      "display_name": "Python 3"
    },
    "language_info": {
      "name": "python"
    }
  },
  "cells": [
    {
      "cell_type": "markdown",
      "source": [
        "Nama : Nera Sagita Fradityas\n",
        "\n",
        "NIM  : 2100015014\n",
        "\n",
        "TUGAS PSDS PYTHON (PERTEMUAN 7)"
      ],
      "metadata": {
        "id": "iYGdGq87aOu0"
      }
    },
    {
      "cell_type": "markdown",
      "source": [
        "# **OPERATOR**"
      ],
      "metadata": {
        "id": "adsruk0WSii6"
      }
    },
    {
      "cell_type": "markdown",
      "source": [
        "**Pengguna Operasi Aritmatika**"
      ],
      "metadata": {
        "id": "NMUUBrnR8v6p"
      }
    },
    {
      "cell_type": "code",
      "source": [
        "#Penjumlahan\n",
        "print('penjumlahan')\n",
        "print(2+2)\n",
        "\n",
        "#Pengurangan\n",
        "print('Pengurangan')\n",
        "print('-'*20)\n",
        "print(2-3)\n",
        "\n",
        "#Perkalian\n",
        "print('Perkalian')\n",
        "print('-'*20)\n",
        "print(2*3)\n",
        "\n",
        "#Pembagian\n",
        "print('Pembagian')\n",
        "print('-'*20)\n",
        "print(2/3)\n",
        "\n",
        "#Modulus\n",
        "print('Modulus')\n",
        "print('-'*20)\n",
        "print(3%2)\n",
        "\n",
        "#Perpangkatan\n",
        "print('Perpangkatan')\n",
        "print('-'*20)\n",
        "print(2**3)\n",
        "\n",
        "#Pembagian dengan hasil pembulatan flooriing\n",
        "print('Pembagian pembulatan flooring')\n",
        "print('-'*20)\n",
        "print(3//2)\n"
      ],
      "metadata": {
        "colab": {
          "base_uri": "https://localhost:8080/"
        },
        "id": "Chd25dCk8zey",
        "outputId": "b8b001ae-1f7d-47a4-9086-38bd8f7ee635"
      },
      "execution_count": 5,
      "outputs": [
        {
          "output_type": "stream",
          "name": "stdout",
          "text": [
            "penjumlahan\n",
            "4\n",
            "Pengurangan\n",
            "--------------------\n",
            "-1\n",
            "Perkalian\n",
            "--------------------\n",
            "6\n",
            "Pembagian\n",
            "--------------------\n",
            "0.6666666666666666\n",
            "Modulus\n",
            "--------------------\n",
            "1\n",
            "Perpangkatan\n",
            "--------------------\n",
            "8\n",
            "Pembagian pembulatan flooring\n",
            "--------------------\n",
            "1\n"
          ]
        }
      ]
    },
    {
      "cell_type": "markdown",
      "source": [
        "**Latihan Operator 1**\n"
      ],
      "metadata": {
        "id": "PQs6UtUHFBJ3"
      }
    },
    {
      "cell_type": "code",
      "source": [
        "#Buatlah program penerapan operator Aritmatika\n",
        "#dengan nilai-nilai yang berbeda dari contoh di atas"
      ],
      "metadata": {
        "id": "mtNxsGUr871d"
      },
      "execution_count": 1,
      "outputs": []
    },
    {
      "cell_type": "markdown",
      "source": [
        "**Operasi Assignment**\n",
        "\n",
        "Operasi Assignment digunakan untuk menyimpan nilai menjadi suatu variabel"
      ],
      "metadata": {
        "id": "GNONtrTXNp3W"
      }
    },
    {
      "cell_type": "code",
      "source": [
        "#Penjumlahan\n",
        "print('Penjumlahan')\n",
        "x = 5\n",
        "x = x+5\n",
        "print(x)\n",
        "x = 5\n",
        "x+= 5\n",
        "print(x)\n",
        "print('-'*20)\n",
        "\n",
        "#Pengurangan\n",
        "print('Pengurangan')\n",
        "x = 5\n",
        "x = x-5\n",
        "print(x)\n",
        "x = 5\n",
        "x-= 5\n",
        "print(x)\n",
        "print('-'*20)\n",
        "\n",
        "\n",
        "#Perkalian\n",
        "print('Perkalian')\n",
        "x = 5\n",
        "x = x*5\n",
        "print(x)\n",
        "x = 5\n",
        "x*= 5\n",
        "print(x)\n",
        "print('-'*20)\n",
        "\n",
        "#Pembagian\n",
        "print('Pembagian')\n",
        "x = 5\n",
        "x = x/5\n",
        "print(x)\n",
        "x = 5\n",
        "x/= 5\n",
        "print(x)\n",
        "print('-'*20)\n",
        "\n",
        "#Modulus\n",
        "print('Modulus')\n",
        "x = 5\n",
        "x = x%5\n",
        "print(x)\n",
        "x = 5\n",
        "x%= 5\n",
        "print(x)\n",
        "print('-'*20)\n",
        "\n",
        "#Pembagian Flooring\n",
        "print('Pembagian Flooring')\n",
        "x = 5\n",
        "x = x//5\n",
        "print(x)\n",
        "x = 5\n",
        "x//= 5\n",
        "print(x)\n",
        "print('-'*20)\n",
        "\n",
        "#Perpangkatan\n",
        "print('Perpangkatann')\n",
        "x = 5\n",
        "x = x**5\n",
        "print(x)\n",
        "x = 5\n",
        "x**= 5\n",
        "print(x)\n",
        "print('-'*20)\n"
      ],
      "metadata": {
        "colab": {
          "base_uri": "https://localhost:8080/"
        },
        "id": "JLJW4PYtNjnB",
        "outputId": "1124cf64-039b-438a-eac3-8abf095871ae"
      },
      "execution_count": 4,
      "outputs": [
        {
          "output_type": "stream",
          "name": "stdout",
          "text": [
            "Penjumlahan\n",
            "10\n",
            "10\n",
            "--------------------\n",
            "Pengurangan\n",
            "0\n",
            "0\n",
            "--------------------\n",
            "Perkalian\n",
            "25\n",
            "25\n",
            "--------------------\n",
            "Pembagian\n",
            "1.0\n",
            "1.0\n",
            "--------------------\n",
            "Modulus\n",
            "0\n",
            "0\n",
            "--------------------\n",
            "Pembagian Flooring\n",
            "1\n",
            "1\n",
            "--------------------\n",
            "Perpangkatann\n",
            "3125\n",
            "3125\n",
            "--------------------\n"
          ]
        }
      ]
    },
    {
      "cell_type": "markdown",
      "source": [
        "**Latihan Operator 2**"
      ],
      "metadata": {
        "id": "hRZ_FzQyPbQo"
      }
    },
    {
      "cell_type": "code",
      "source": [
        "#Buatlah progam penerapan operator assignment\n",
        "#dengan nilai-nilai yang berbeda dari contoh diatas"
      ],
      "metadata": {
        "id": "9FCmWqn0PLax"
      },
      "execution_count": 5,
      "outputs": []
    },
    {
      "cell_type": "markdown",
      "source": [
        "**Operator Perbandingan**"
      ],
      "metadata": {
        "id": "DNljLv3mPqIZ"
      }
    },
    {
      "cell_type": "code",
      "source": [
        "print(2==2)\n",
        "print(2!=2)\n",
        "print(2<2)\n",
        "print(2>=2)\n",
        "print(2<=2)"
      ],
      "metadata": {
        "colab": {
          "base_uri": "https://localhost:8080/"
        },
        "id": "ItqVjPzNPoJQ",
        "outputId": "f235cff8-39e4-42e6-b05e-065cae610b47"
      },
      "execution_count": 6,
      "outputs": [
        {
          "output_type": "stream",
          "name": "stdout",
          "text": [
            "True\n",
            "False\n",
            "False\n",
            "True\n",
            "True\n"
          ]
        }
      ]
    },
    {
      "cell_type": "markdown",
      "source": [
        "**Latihan Operator 3**\n"
      ],
      "metadata": {
        "id": "HbbMVDVtQGAL"
      }
    },
    {
      "cell_type": "code",
      "source": [
        "#Buatlah program penerapan opertor perbandingan\n",
        "#dengan nilai-nilai yang berbeda dari contoh diatas"
      ],
      "metadata": {
        "id": "-PNM7iV3P_gB"
      },
      "execution_count": 7,
      "outputs": []
    },
    {
      "cell_type": "markdown",
      "source": [
        "**Operator Logika**\n",
        "\n",
        "Operator logika digunkan untuk mengkombinasikan statment-statment kondisional\n",
        "\n",
        "Macam-macam operator logika :"
      ],
      "metadata": {
        "id": "cs7ehwkBQUHo"
      }
    },
    {
      "cell_type": "code",
      "source": [
        "#and -> kondisi benar apabila semua statmentnya benar\n",
        "#or  -> kondisi menjadi benar apabila salah satu statmentnya ada yang benar\n",
        "#not -> membalik hasil dari benar ke salah dan salah ke benar"
      ],
      "metadata": {
        "id": "F7vlq1WdQSwV"
      },
      "execution_count": 10,
      "outputs": []
    },
    {
      "cell_type": "markdown",
      "source": [
        "**Operator Logika**\n"
      ],
      "metadata": {
        "id": "VXJ0wJFRRPeT"
      }
    },
    {
      "cell_type": "code",
      "source": [
        "print(True and False)\n",
        "print(False or False)\n",
        "print(not False and True)"
      ],
      "metadata": {
        "colab": {
          "base_uri": "https://localhost:8080/"
        },
        "id": "sP5T_9GfRAsB",
        "outputId": "09677dfe-f4ca-46f8-effb-73adf0ebb170"
      },
      "execution_count": 14,
      "outputs": [
        {
          "output_type": "stream",
          "name": "stdout",
          "text": [
            "False\n",
            "False\n",
            "True\n"
          ]
        }
      ]
    },
    {
      "cell_type": "markdown",
      "source": [
        "**Latihan Operator 4**"
      ],
      "metadata": {
        "id": "Hf7d_yTHRqqb"
      }
    },
    {
      "cell_type": "code",
      "source": [
        "#Buatlah pemrograman penerapan operator logika\n",
        "#dengan nilai-nilai yang berbeda dari contoh diatas"
      ],
      "metadata": {
        "id": "gCvGVtMaRb44"
      },
      "execution_count": 16,
      "outputs": []
    },
    {
      "cell_type": "markdown",
      "source": [
        "**Operator Keanggotaan**"
      ],
      "metadata": {
        "id": "31rOEu1_R2z2"
      }
    },
    {
      "cell_type": "code",
      "source": [
        "a = (1,2,3,4,5,6)\n",
        "b = 2\n",
        "print(b in a)\n",
        "print('-'*20)\n",
        "\n",
        "a = (1,2,3,4,5,6)\n",
        "b = 7\n",
        "print(b not in a)\n"
      ],
      "metadata": {
        "colab": {
          "base_uri": "https://localhost:8080/"
        },
        "id": "4WPiR9SgR0wo",
        "outputId": "2d5bbf8d-1003-4051-a3a9-e874335489ca"
      },
      "execution_count": 17,
      "outputs": [
        {
          "output_type": "stream",
          "name": "stdout",
          "text": [
            "True\n",
            "--------------------\n",
            "True\n"
          ]
        }
      ]
    },
    {
      "cell_type": "markdown",
      "source": [
        "**Latihan Operator 5**"
      ],
      "metadata": {
        "id": "uJbe6lyfSNjY"
      }
    },
    {
      "cell_type": "code",
      "source": [
        "#Buatlah program penerapan operator keanggotaan membership\n",
        "##dengan nilai-nilai yang berbeda dari contoh diatas"
      ],
      "metadata": {
        "id": "VaYifSqQSL-d"
      },
      "execution_count": 18,
      "outputs": []
    },
    {
      "cell_type": "markdown",
      "source": [
        "# **VARIABEL**\n",
        "\n",
        "Variabel : Lokal penyimpanan yang dapat digunakan untuk menampung sebuah data atau informasi.\n",
        "\n",
        "Syarat-syarat penamaan variabl\n",
        "1.   Karakter-karakter yang digunakan untuk penamaan variabel adalah alphabet, angka dan underscore\n",
        "2.   Karakter pertama variabel harus berupa huruf atau garis bawah/underscore, dan tidak bisa berupa angka\n",
        "3.   Nama sebuah variabel tidak bisa menggunakan keyword atau reserved words dari bahas python seperti for, if dan lainnya\n",
        "4.   Karakter pada nama variabel bersifat sensitif (case-sensitif)\n",
        "\n",
        "\n",
        "\n"
      ],
      "metadata": {
        "id": "o2A3RMscSbcI"
      }
    },
    {
      "cell_type": "code",
      "source": [
        "#Membuat variabel\n",
        "kalimat = 'ini adalah variabel'\n",
        "bilangan1 = 4\n",
        "bilangan2 = 2.5\n",
        "bilangan3 = True\n",
        "bilangan4 = 1j + 4\n",
        "\n",
        "#Menampilkan variabel\n",
        "print(kalimat)\n",
        "print(bilangan1)\n",
        "print(bilangan2)\n",
        "print(bilangan3)\n",
        "print(bilangan4)"
      ],
      "metadata": {
        "colab": {
          "base_uri": "https://localhost:8080/"
        },
        "id": "B8k-Eu1WSaOj",
        "outputId": "961b034a-1e54-431b-cb77-95c5e18741e0"
      },
      "execution_count": 19,
      "outputs": [
        {
          "output_type": "stream",
          "name": "stdout",
          "text": [
            "ini adalah variabel\n",
            "4\n",
            "2.5\n",
            "True\n",
            "(4+1j)\n"
          ]
        }
      ]
    },
    {
      "cell_type": "markdown",
      "source": [
        "**Latihan 1**\n"
      ],
      "metadata": {
        "id": "mILfWtrnVR0K"
      }
    },
    {
      "cell_type": "code",
      "source": [
        "#Buatlah 5 variabel kalian sendiri dengan 5 macam tipe data\n",
        "#lalu tampilkan variabel menggunakan fungsi print"
      ],
      "metadata": {
        "id": "4hAErv0_VN5E"
      },
      "execution_count": 20,
      "outputs": []
    },
    {
      "cell_type": "code",
      "source": [
        "#Membuat variabel\n",
        "kalimat = 'ini adalah variabel'\n",
        "bilangan1 = 6\n",
        "bilangan2 = 4\n",
        "bilangan3 = 6 + 4\n",
        "bilangan4 = 10\n",
        "\n",
        "#Menampilkan variabel\n",
        "print(kalimat)\n",
        "print(bilangan1)\n",
        "print(bilangan2)\n",
        "print(bilangan3)\n",
        "print(bilangan4)\n"
      ],
      "metadata": {
        "colab": {
          "base_uri": "https://localhost:8080/"
        },
        "id": "K3U49XDgVd_u",
        "outputId": "703546fd-b8f0-4b1b-9c29-f37f53c1bc98"
      },
      "execution_count": 22,
      "outputs": [
        {
          "output_type": "stream",
          "name": "stdout",
          "text": [
            "ini adalah variabel\n",
            "6\n",
            "4\n",
            "10\n",
            "10\n"
          ]
        }
      ]
    },
    {
      "cell_type": "markdown",
      "source": [
        "#**TIPE DATA**\n",
        "\n",
        "5 tipe data yaitu :\n",
        "\n",
        "1.   Integral atau bilangan bulat\n",
        "2.   Float atau bilangan desimal\n",
        "3.   String atau kalimat\n",
        "4.   Boolean yang terdiri dari True dan False"
      ],
      "metadata": {
        "id": "mEW_qMtEWT14"
      }
    },
    {
      "cell_type": "code",
      "source": [
        "#Membuat tipe data\n",
        "kalimat = 'ini adalah variabel'\n",
        "bilangan1 = 6\n",
        "bilangan2 = 4\n",
        "bilangan3 = 6 + 4\n",
        "bilangan4 = 10\n",
        "\n",
        "#Menampilkan tipe data\n",
        "print(type(kalimat))\n",
        "print(type(bilangan1))\n",
        "print(type(bilangan2))\n",
        "print(type(bilangan3))\n",
        "print(type(bilangan4))"
      ],
      "metadata": {
        "colab": {
          "base_uri": "https://localhost:8080/"
        },
        "id": "vLZjSWxAWDB5",
        "outputId": "2dbe34b8-1a08-43cc-fd75-c80483c8878a"
      },
      "execution_count": 2,
      "outputs": [
        {
          "output_type": "stream",
          "name": "stdout",
          "text": [
            "<class 'str'>\n",
            "<class 'int'>\n",
            "<class 'int'>\n",
            "<class 'int'>\n",
            "<class 'int'>\n"
          ]
        }
      ]
    },
    {
      "cell_type": "markdown",
      "source": [
        "# **KONVERSI TIPE DATA**"
      ],
      "metadata": {
        "id": "OmAQ7TOIY1hV"
      }
    },
    {
      "cell_type": "code",
      "source": [
        "#Membuat konversi tipe data\n",
        "bilangan1 = 6\n",
        "bilangan2 = 4\n",
        "bilangan3 = 6 + 4\n",
        "bilangan4 = 10\n",
        "\n",
        "#Konversi tipe data integer\n",
        "print(int(bilangan2))\n",
        "print(int(bilangan3))\n",
        "\n",
        "#Konversi tipe data float\n",
        "print(float(bilangan1))\n",
        "print(float(bilangan3))\n",
        "\n",
        "#Konersi tipe data string\n",
        "print(str(bilangan1))\n",
        "print(str(bilangan2))\n",
        "print(str(bilangan3))\n",
        "\n",
        "#Konversi tipe data bool\n",
        "print(bool(bilangan1))\n",
        "print(bool(bilangan2))\n",
        "\n",
        "#Konversi tipe data complex\n",
        "print(complex(bilangan1))\n",
        "print(complex(bilangan2))\n",
        "print(complex(bilangan3))"
      ],
      "metadata": {
        "colab": {
          "base_uri": "https://localhost:8080/"
        },
        "id": "0ZHN6y45Yev0",
        "outputId": "f4c782a7-803d-48de-97cb-4b582d439ba3"
      },
      "execution_count": 4,
      "outputs": [
        {
          "output_type": "stream",
          "name": "stdout",
          "text": [
            "4\n",
            "10\n",
            "6.0\n",
            "10.0\n",
            "6\n",
            "4\n",
            "10\n",
            "True\n",
            "True\n",
            "(6+0j)\n",
            "(4+0j)\n",
            "(10+0j)\n"
          ]
        }
      ]
    }
  ]
}